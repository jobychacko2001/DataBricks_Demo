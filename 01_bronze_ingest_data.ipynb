{
 "cells": [
  {
   "cell_type": "code",
   "execution_count": 0,
   "metadata": {
    "application/vnd.databricks.v1+cell": {
     "cellMetadata": {
      "byteLimit": 2048000,
      "rowLimit": 10000
     },
     "inputWidgets": {},
     "nuid": "bbbcd004-a822-4309-a979-2321c5f7424d",
     "showTitle": false,
     "tableResultSettingsMap": {},
     "title": ""
    }
   },
   "outputs": [],
   "source": [
    "%fs cp /FileStore/tables/data.csv /FileStore/tables/autoloader_input/data1.csv"
   ]
  },
  {
   "cell_type": "code",
   "execution_count": 0,
   "metadata": {
    "application/vnd.databricks.v1+cell": {
     "cellMetadata": {
      "byteLimit": 2048000,
      "rowLimit": 10000
     },
     "inputWidgets": {},
     "nuid": "3fe11041-7430-4d90-abb3-8914ac5c9a75",
     "showTitle": false,
     "tableResultSettingsMap": {},
     "title": ""
    }
   },
   "outputs": [],
   "source": [
    "from pyspark.sql.functions import input_file_name, current_timestamp\n",
    "\n",
    "raw_path = \"/FileStore/tables/autoloader_input/\"\n",
    "\n",
    "df = (\n",
    "    spark.readStream\n",
    "    .format(\"cloudFiles\")\n",
    "    .option(\"cloudFiles.format\", \"csv\")       # File format: CSV\n",
    "    .option(\"header\", \"true\")                 # First row as header\n",
    "    .option(\"inferSchema\", \"true\")            # Infer schema automatically\n",
    "    .option(\"cloudFiles.schemaLocation\", \"/FileStore/tables/_schemas/bronze/\")  # Schema location\n",
    "    .load(raw_path)                           # Input directory\n",
    "    .withColumn(\"ingest_time\", current_timestamp())  # Add ingestion timestamp\n",
    "    .withColumn(\"source_file\", input_file_name())    # Add source file name\n",
    ")\n",
    "\n",
    "# Write stream to Bronze Table\n",
    "df.writeStream \\\n",
    "    .format(\"delta\") \\\n",
    "    .outputMode(\"append\") \\\n",
    "    .option(\"checkpointLocation\", \"/FileStore/tables/_checkpoints/bronze/\") \\\n",
    "    .option(\"mergeSchema\", \"true\") \\\n",
    "    .table(\"retail_demo.bronze_sales\")"
   ]
  }
 ],
 "metadata": {
  "application/vnd.databricks.v1+notebook": {
   "computePreferences": null,
   "dashboards": [],
   "environmentMetadata": {
    "base_environment": "",
    "environment_version": "2"
   },
   "inputWidgetPreferences": null,
   "language": "python",
   "notebookMetadata": {
    "mostRecentlyExecutedCommandWithImplicitDF": {
     "commandId": 6612557420683866,
     "dataframes": [
      "_sqldf"
     ]
    },
    "pythonIndentUnit": 4
   },
   "notebookName": "01_bronze_ingest_data",
   "widgets": {}
  },
  "language_info": {
   "name": "python"
  }
 },
 "nbformat": 4,
 "nbformat_minor": 0
}
