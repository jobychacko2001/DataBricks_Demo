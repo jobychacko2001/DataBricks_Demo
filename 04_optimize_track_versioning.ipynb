{
 "cells": [
  {
   "cell_type": "code",
   "execution_count": 0,
   "metadata": {
    "application/vnd.databricks.v1+cell": {
     "cellMetadata": {
      "byteLimit": 2048000,
      "implicitDf": true,
      "rowLimit": 10000
     },
     "inputWidgets": {},
     "nuid": "224126cc-d9d6-4678-a526-c5f0db5982e7",
     "showTitle": false,
     "tableResultSettingsMap": {},
     "title": ""
    }
   },
   "outputs": [],
   "source": [
    "%sql\n",
    "OPTIMIZE retail_demo.gold_sales ZORDER BY (invoice_date, country);\n",
    "OPTIMIZE retail_demo.gold_sales_by_product ZORDER BY (stockcode);\n",
    "OPTIMIZE retail_demo.gold_sales_by_customer ZORDER BY (customer_id);\n",
    "OPTIMIZE retail_demo.gold_hourly_sales ZORDER BY (hour);\n",
    "OPTIMIZE retail_demo.gold_weekly_sales ZORDER BY (week_start, country);"
   ]
  }
 ],
 "metadata": {
  "application/vnd.databricks.v1+notebook": {
   "computePreferences": null,
   "dashboards": [],
   "environmentMetadata": {
    "base_environment": "",
    "environment_version": "2"
   },
   "inputWidgetPreferences": null,
   "language": "python",
   "notebookMetadata": {
    "mostRecentlyExecutedCommandWithImplicitDF": {
     "commandId": 5258110205175872,
     "dataframes": [
      "_sqldf"
     ]
    },
    "pythonIndentUnit": 4
   },
   "notebookName": "04_optimize_track_versioning",
   "widgets": {}
  },
  "language_info": {
   "name": "python"
  }
 },
 "nbformat": 4,
 "nbformat_minor": 0
}
