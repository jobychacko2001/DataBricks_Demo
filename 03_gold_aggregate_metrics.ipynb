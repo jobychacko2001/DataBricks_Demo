{
 "cells": [
  {
   "cell_type": "code",
   "execution_count": 0,
   "metadata": {
    "application/vnd.databricks.v1+cell": {
     "cellMetadata": {
      "byteLimit": 2048000,
      "rowLimit": 10000
     },
     "inputWidgets": {},
     "nuid": "5b22d3fd-24a6-4ca6-a313-bca6805fb32d",
     "showTitle": false,
     "tableResultSettingsMap": {},
     "title": ""
    }
   },
   "outputs": [],
   "source": [
    "from pyspark.sql.functions import sum, count, avg, to_date, round as spark_round, date_trunc\n",
    "from pyspark.sql import functions as F\n",
    "\n",
    "# Step 1: Load Silver Table\n",
    "silver_df = spark.table(\"retail_demo.silver_sales\")\n",
    "\n",
    "# invoice date to date format\n",
    "silver_df = silver_df.withColumn(\"invoice_date\", to_date(\"invoice_ts\"))\n",
    "\n",
    "# GOLD TABLE 1 \n",
    "# Daily Country-wise Sales Summary\n",
    "gold_df = silver_df.groupBy(\"invoice_date\", \"country\").agg(\n",
    "    spark_round(sum(\"total_sales\"), 2).alias(\"total_sales\"),\n",
    "    count(\"stockcode\").alias(\"item_count\"),\n",
    "    spark_round(avg(\"total_sales\"), 2).alias(\"avg_order_value\")\n",
    ")\n",
    "\n",
    "gold_df.write.format(\"delta\").mode(\"overwrite\").saveAsTable(\"retail_demo.gold_sales\")\n",
    "\n",
    "# GOLD TABLE 2 \n",
    "# Daily Customer-wise Sales Summary\n",
    "gold_customer_df = silver_df.groupBy(\"invoice_date\", \"customer_id\").agg(\n",
    "    spark_round(sum(\"total_sales\"), 2).alias(\"total_spent\"),\n",
    "    count(\"stockcode\").alias(\"item_count\"),\n",
    "    spark_round(avg(\"total_sales\"), 2).alias(\"avg_line_value\")\n",
    ")\n",
    "\n",
    "gold_customer_df.write.format(\"delta\").mode(\"overwrite\").saveAsTable(\"retail_demo.gold_sales_by_customer\")\n",
    "\n",
    "# GOLD TABLE 3\n",
    "# Product-wise Sales Summary\n",
    "gold_product_df = silver_df.groupBy(\"stockcode\", \"description_clean\").agg(\n",
    "    sum(\"Quantity\").alias(\"total_quantity_sold\"),\n",
    "    spark_round(sum(\"total_sales\"), 2).alias(\"total_revenue\"),\n",
    "    spark_round(avg(\"unit_price\"), 2).alias(\"avg_unit_price\")\n",
    ")\n",
    "\n",
    "gold_product_df.write.format(\"delta\").mode(\"overwrite\").saveAsTable(\"retail_demo.gold_sales_by_product\")\n",
    "\n",
    "# GOLD TABLE 4\n",
    "# Hourly Sales Trend\n",
    "gold_hourly_df = silver_df.groupBy(\"invoice_date\", \"hour\").agg(\n",
    "    spark_round(sum(\"total_sales\"), 2).alias(\"total_sales\"),\n",
    "    count(\"stockcode\").alias(\"item_count\")\n",
    ")\n",
    "\n",
    "gold_hourly_df.write.format(\"delta\").mode(\"overwrite\").saveAsTable(\"retail_demo.gold_hourly_sales\")\n",
    "\n",
    "# GOLD TABLE 5\n",
    "# Weekly Sales Summary by Country\n",
    "\n",
    "spark.sql(\"DROP TABLE IF EXISTS retail_demo.gold_weekly_sales\")\n",
    "silver_df = silver_df.withColumn(\"week_start\", date_trunc(\"week\", \"invoice_ts\"))\n",
    "gold_weekly_df = silver_df.groupBy(\"week_start\", \"country\").agg(\n",
    "    spark_round(sum(\"total_sales\"), 2).alias(\"weekly_sales\"),\n",
    "    count(\"stockcode\").alias(\"total_items\")\n",
    ")\n",
    "gold_weekly_df.write.format(\"delta\").mode(\"overwrite\").saveAsTable(\"retail_demo.gold_weekly_sales\")"
   ]
  },
  {
   "cell_type": "code",
   "execution_count": 0,
   "metadata": {
    "application/vnd.databricks.v1+cell": {
     "cellMetadata": {
      "byteLimit": 2048000,
      "implicitDf": true,
      "rowLimit": 10000
     },
     "inputWidgets": {},
     "nuid": "ff1c0d7f-8f3e-4925-9eb2-ac5af9ae3ad4",
     "showTitle": true,
     "tableResultSettingsMap": {},
     "title": ""
    }
   },
   "outputs": [],
   "source": [
    "%sql\n",
    "SELECT * FROM retail_demo.gold_sales LIMIT 10"
   ]
  },
  {
   "cell_type": "code",
   "execution_count": 0,
   "metadata": {
    "application/vnd.databricks.v1+cell": {
     "cellMetadata": {
      "byteLimit": 2048000,
      "implicitDf": true,
      "rowLimit": 10000
     },
     "inputWidgets": {},
     "nuid": "fb02f3a2-3e79-4a17-984f-5c0db0b628c8",
     "showTitle": false,
     "tableResultSettingsMap": {},
     "title": ""
    }
   },
   "outputs": [],
   "source": [
    "%sql\n",
    "SELECT * \n",
    "FROM retail_demo.gold_sales_by_customer \n",
    "LIMIT 10;"
   ]
  },
  {
   "cell_type": "code",
   "execution_count": 0,
   "metadata": {
    "application/vnd.databricks.v1+cell": {
     "cellMetadata": {
      "byteLimit": 2048000,
      "implicitDf": true,
      "rowLimit": 10000
     },
     "inputWidgets": {},
     "nuid": "3f24c932-4bba-44b1-857f-d7ffaa28089f",
     "showTitle": false,
     "tableResultSettingsMap": {},
     "title": ""
    }
   },
   "outputs": [],
   "source": [
    "%sql\n",
    "SELECT * \n",
    "FROM retail_demo.gold_sales_by_product \n",
    "LIMIT 10;"
   ]
  },
  {
   "cell_type": "code",
   "execution_count": 0,
   "metadata": {
    "application/vnd.databricks.v1+cell": {
     "cellMetadata": {
      "byteLimit": 2048000,
      "implicitDf": true,
      "rowLimit": 10000
     },
     "inputWidgets": {},
     "nuid": "e7a60b0c-5ece-4345-b3d0-f511fef6feaf",
     "showTitle": false,
     "tableResultSettingsMap": {},
     "title": ""
    }
   },
   "outputs": [],
   "source": [
    "%sql\n",
    "SELECT * \n",
    "FROM retail_demo.gold_hourly_sales \n",
    "LIMIT 10;"
   ]
  },
  {
   "cell_type": "code",
   "execution_count": 0,
   "metadata": {
    "application/vnd.databricks.v1+cell": {
     "cellMetadata": {
      "byteLimit": 2048000,
      "implicitDf": true,
      "rowLimit": 10000
     },
     "inputWidgets": {},
     "nuid": "d3489395-8e26-4a43-a657-789938edcf00",
     "showTitle": false,
     "tableResultSettingsMap": {},
     "title": ""
    }
   },
   "outputs": [],
   "source": [
    "%sql\n",
    "SELECT * \n",
    "FROM retail_demo.gold_weekly_sales \n",
    "LIMIT 10;"
   ]
  }
 ],
 "metadata": {
  "application/vnd.databricks.v1+notebook": {
   "computePreferences": null,
   "dashboards": [],
   "environmentMetadata": {
    "base_environment": "",
    "environment_version": "2"
   },
   "inputWidgetPreferences": null,
   "language": "python",
   "notebookMetadata": {
    "mostRecentlyExecutedCommandWithImplicitDF": {
     "commandId": 5258110205175854,
     "dataframes": [
      "_sqldf"
     ]
    },
    "pythonIndentUnit": 4
   },
   "notebookName": "03_gold_aggregate_metrics",
   "widgets": {}
  },
  "language_info": {
   "name": "python"
  }
 },
 "nbformat": 4,
 "nbformat_minor": 0
}
