{
 "cells": [
  {
   "cell_type": "code",
   "execution_count": 0,
   "metadata": {
    "application/vnd.databricks.v1+cell": {
     "cellMetadata": {
      "byteLimit": 2048000,
      "rowLimit": 10000
     },
     "inputWidgets": {},
     "nuid": "45d85537-0369-4293-833c-6f239ec46eec",
     "showTitle": false,
     "tableResultSettingsMap": {
      "0": {
       "dataGridStateBlob": null,
       "filterBlob": "{\"version\":1,\"filterGroups\":[],\"syncTimestamp\":1752101737805}",
       "queryPlanFiltersBlob": "[]",
       "tableResultIndex": 0
      }
     },
     "title": ""
    }
   },
   "outputs": [],
   "source": [
    "from pyspark.sql.functions import *\n",
    "from pyspark.sql.types import *\n",
    "\n",
    "# Step 1: Read from Bronze Table\n",
    "bronze_df = spark.table(\"retail_demo.bronze_sales\")\n",
    "\n",
    "# Step 2: Base cleaning and deduplication\n",
    "silver_df = (\n",
    "    bronze_df\n",
    "    .dropDuplicates([\"InvoiceNo\", \"StockCode\"])\n",
    "    .dropna(subset=[\"InvoiceNo\", \"StockCode\", \"Description\", \"Quantity\", \"UnitPrice\"])\n",
    "    .filter(\"Quantity > 0 AND UnitPrice >= 0\")\n",
    ")\n",
    "\n",
    "# Step 3: Column renaming for consistency\n",
    "silver_df = silver_df.withColumnRenamed(\"InvoiceNo\", \"invoice_id\") \\\n",
    "                     .withColumnRenamed(\"StockCode\", \"stockcode\") \\\n",
    "                     .withColumnRenamed(\"Description\", \"description\") \\\n",
    "                     .withColumnRenamed(\"InvoiceDate\", \"invoice_date\") \\\n",
    "                     .withColumnRenamed(\"UnitPrice\", \"unit_price\") \\\n",
    "                     .withColumnRenamed(\"CustomerID\", \"customer_id\") \\\n",
    "                     .withColumnRenamed(\"Country\", \"country\")\n",
    "\n",
    "# Step 4: Derived columns (transformations)\n",
    "silver_df = (\n",
    "    silver_df\n",
    "    .withColumn(\"description_clean\", regexp_replace(lower(trim(col(\"description\"))), \"[^a-z0-9 ]\", \"\"))\n",
    "    .withColumn(\"invoice_ts\", to_timestamp(\"invoice_date\", \"M/d/yyyy H:mm\"))\n",
    "    .withColumn(\"hour\", hour(\"invoice_ts\"))\n",
    "    .withColumn(\"weekday\", date_format(\"invoice_ts\", \"E\"))\n",
    "    .withColumn(\"week_number\", weekofyear(\"invoice_ts\"))\n",
    "    .withColumn(\"is_weekend\", (dayofweek(\"invoice_ts\") >= 6).cast(\"int\"))\n",
    "    .withColumn(\"total_sales\", round(col(\"Quantity\") * col(\"unit_price\"), 2))  # rounded for readability\n",
    ")\n",
    "\n",
    "# Step 5: Save to Silver Table\n",
    "silver_df.write.format(\"delta\").option(\"mergeSchema\", \"true\").mode(\"overwrite\").saveAsTable(\"retail_demo.silver_sales\")\n",
    "\n",
    "# Step 6: Display sample\n",
    "display(spark.table(\"retail_demo.silver_sales\"))"
   ]
  },
  {
   "cell_type": "code",
   "execution_count": 0,
   "metadata": {
    "application/vnd.databricks.v1+cell": {
     "cellMetadata": {
      "byteLimit": 2048000,
      "rowLimit": 10000
     },
     "inputWidgets": {},
     "nuid": "954c8405-d427-49a8-8580-540275ef9043",
     "showTitle": false,
     "tableResultSettingsMap": {},
     "title": ""
    }
   },
   "outputs": [],
   "source": [
    "# silver_df.select(hour(\"invoice_ts\").alias(\"hour\")).distinct().orderBy(\"hour\").display()"
   ]
  },
  {
   "cell_type": "code",
   "execution_count": 0,
   "metadata": {
    "application/vnd.databricks.v1+cell": {
     "cellMetadata": {
      "byteLimit": 2048000,
      "rowLimit": 10000
     },
     "inputWidgets": {},
     "nuid": "cce73a8b-37be-4b95-8ee6-b6716e271e33",
     "showTitle": false,
     "tableResultSettingsMap": {},
     "title": ""
    }
   },
   "outputs": [],
   "source": [
    "# silver_df.select(\"invoice_date\", \"week_number\").distinct().orderBy(\"invoice_date\").display()"
   ]
  },
  {
   "cell_type": "code",
   "execution_count": 0,
   "metadata": {
    "application/vnd.databricks.v1+cell": {
     "cellMetadata": {
      "byteLimit": 2048000,
      "implicitDf": true,
      "rowLimit": 10000
     },
     "inputWidgets": {},
     "nuid": "62fb65ca-71fc-44c2-8860-1db0c7243606",
     "showTitle": false,
     "tableResultSettingsMap": {},
     "title": ""
    }
   },
   "outputs": [],
   "source": [
    "%sql\n",
    "-- SELECT * FROM retail_demo.silver_sales LIMIT 10"
   ]
  }
 ],
 "metadata": {
  "application/vnd.databricks.v1+notebook": {
   "computePreferences": null,
   "dashboards": [],
   "environmentMetadata": {
    "base_environment": "",
    "environment_version": "2"
   },
   "inputWidgetPreferences": null,
   "language": "python",
   "notebookMetadata": {
    "mostRecentlyExecutedCommandWithImplicitDF": {
     "commandId": 7292053510119668,
     "dataframes": [
      "_sqldf"
     ]
    },
    "pythonIndentUnit": 4
   },
   "notebookName": "02_silver_clean_validate",
   "widgets": {}
  },
  "language_info": {
   "name": "python"
  }
 },
 "nbformat": 4,
 "nbformat_minor": 0
}
